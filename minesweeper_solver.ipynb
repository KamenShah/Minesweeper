{
 "cells": [
  {
   "cell_type": "code",
   "execution_count": 1,
   "metadata": {},
   "outputs": [],
   "source": [
    "%load_ext autoreload\n",
    "%autoreload 2"
   ]
  },
  {
   "cell_type": "code",
   "execution_count": 40,
   "metadata": {},
   "outputs": [],
   "source": [
    "from __future__ import print_function\n",
    "from minesweeper_game.msgame import MSGame\n",
    "import os\n",
    "import time\n",
    "import random \n",
    "import matplotlib.pyplot as plt\n",
    "import numpy as np\n",
    "from sklearn import tree\n",
    "from sklearn import metrics\n",
    "from sklearn.model_selection import train_test_split\n",
    "from imblearn.over_sampling import RandomOverSampler \n",
    "from sklearn import svm\n",
    "from sklearn.ensemble import RandomForestClassifier\n",
    "from matplotlib.pyplot import figure\n",
    "import numpy as np\n",
    "from sklearn.tree import DecisionTreeClassifier\n",
    "from sklearn.datasets import make_classification\n",
    "from sklearn.model_selection import train_test_split\n",
    "from sklearn.utils import check_array\n",
    "from minesweeper_solver import Solver\n",
    "from minesweeper_game.msgame import MSGame\n",
    "from minesweeper_solver.policies import corner_then_edge2_policy\n",
    "from IPython.display import clear_output\n",
    "import pickle"
   ]
  },
  {
   "cell_type": "markdown",
   "metadata": {},
   "source": [
    "# Generate Dataset"
   ]
  },
  {
   "cell_type": "code",
   "execution_count": 41,
   "metadata": {},
   "outputs": [],
   "source": [
    "\"\"\"Test script for the game board.\n",
    "\"\"\"\n",
    "\n",
    "# FeautureType: 1, Create baseline feature map from minesweeper grid without any data manipulation\n",
    "def createBaseFeatures(x, y, grid, padding, fillerValue= -1):\n",
    "    features = []\n",
    "    for i, j in getSearchSpace(padding):\n",
    "        newX = x + i\n",
    "        newY = y + j\n",
    "        if x == newX and y == newY:\n",
    "            continue\n",
    "        if len(grid) > newX >= 0 and len(grid[0]) > newY >= 0:   \n",
    "            if grid[newX][newY] == 11:\n",
    "                features.append(0)\n",
    "            else:\n",
    "                features.append(grid[newX][newY])\n",
    "        else:\n",
    "            features.append(fillerValue)\n",
    "            \n",
    "    return features\n",
    "\n",
    "\n",
    "# FeautureType: 2, Create feautures using naive approach: for every square that is 11, find proportion of border squares\n",
    "def createNaiveFeatures(x, y, grid, padding, fillerValue= -1):\n",
    "    features = []\n",
    "    for i, j in getSearchSpace(padding):\n",
    "        newX = x + i\n",
    "        newY = y + j\n",
    "        if len(grid) > newX >= 0 and len(grid[0]) > newY >= 0:\n",
    "            if grid[newX][newY] == 11:\n",
    "                val = 0\n",
    "                for n, m in [[-1,-1],[-1,0],[-1,1],[0,-1],[0,1],[1,-1],[1,0],[1,1]]:\n",
    "                    tempX = newX + n\n",
    "                    tempY = newY + m\n",
    "                    if len(grid) > tempX >= 0 and len(grid[0]) > tempY >= 0:  \n",
    "                        if grid[tempX][tempY] != 11 and grid[tempX][tempY] != 0:\n",
    "                            val += 1\n",
    "                features.append(val/8)\n",
    "            else:\n",
    "                features.append(grid[newX][newY])\n",
    "        else:\n",
    "            features.append(fillerValue)\n",
    "    \n",
    "    return features\n",
    "\n",
    "\n",
    "# FeautureType: 3, Create feautures using Probabilistic approach: use algorithm to deduce bomb probabilities\n",
    "def createProbabilityFeatures(x, y, probabilities, padding, fillerValue= -1):\n",
    "    features = []\n",
    "    for i, j in getSearchSpace(padding):\n",
    "        newX = x + i\n",
    "        newY = y + j\n",
    "        if len(probabilities) > newX >= 0 and len(probabilities[0]) > newY >= 0:  \n",
    "            if np.isnan(probabilities[newX][newY]):\n",
    "                features.append(0)\n",
    "            else:\n",
    "                features.append(probabilities[newX][newY])\n",
    "        else:\n",
    "            features.append(fillerValue)\n",
    "            \n",
    "    return features   \n",
    "\n",
    "\n",
    "\n",
    "# Generate dataset from all valid moves\n",
    "def generateDataPoints(moves, grid, bombMap, featureType, padding, probabilities=None):\n",
    "    data = []\n",
    "    \n",
    "    if featureType == 1:\n",
    "        featureExtractor = createBaseFeatures\n",
    "    elif featureType == 2:\n",
    "        featureExtractor = createNaiveFeatures    \n",
    "    elif featureType == 3:\n",
    "        featureExtractor = createProbabilityFeatures\n",
    "\n",
    "        \n",
    "    for x, y in moves:\n",
    "        if isValidCell(x, y, grid):\n",
    "            if featureType == 3:\n",
    "                feats = featureExtractor(x, y, probabilities, padding)\n",
    "            else:    \n",
    "                feats = featureExtractor(x, y, grid, padding)\n",
    "                \n",
    "            label = bombMap[x][y]\n",
    "            data.append((feats, label))\n",
    "    return data\n",
    "\n",
    "\n",
    "# Determine if grid square has an adjacent square with value from 1-8\n",
    "def isValidCell(x, y, grid):\n",
    "    validVals = [i for i in range(1, 9)]\n",
    "    for i, j in [[-1,-1], [-1,0], [-1, 1], [-1, 0], [-1, 1], [1, -1], [1, 0], [1,1]]:\n",
    "        newX = x + i\n",
    "        newY = y + j\n",
    "        if newX == x and newY == y:\n",
    "            continue\n",
    "        if len(grid) > newX >= 0 and len(grid[0]) > newY >= 0:\n",
    "            if grid[newX][newY] in validVals:\n",
    "                return True\n",
    "    return False\n",
    "\n",
    "\n",
    "# Find all grid squares that can be clicked (value of 11)\n",
    "def findValidMoves(grid):\n",
    "    validMoves = []\n",
    "    for i in range(len(grid)):\n",
    "        for j in range(len(grid[0])):\n",
    "            if grid[i][j] == 11:\n",
    "                validMoves.append([i,j])\n",
    "    return validMoves\n",
    "\n",
    "\n",
    "def getSearchSpace(padding):\n",
    "    searchSpace = []\n",
    "    for i in range(-padding, padding+1):\n",
    "        for j in range(-padding, padding+1):\n",
    "            searchSpace.append([i,j])\n",
    "    \n",
    "    return searchSpace\n",
    "\n",
    "\n",
    "# Generate entire dataset with configurations  \n",
    "def generateDataset(board_size_x = 16, board_size_y = 30, bombs = 99, iterations = 500, padding = 5, featureType = 1):\n",
    "    dataset = []\n",
    "\n",
    "    unique = {}    \n",
    "\n",
    "\n",
    "    searchSpace = []\n",
    "    for i in range(-padding, padding+1):\n",
    "        for j in range(-padding, padding+1):\n",
    "            searchSpace.append([i,j])\n",
    "\n",
    "    for i in range(iterations):\n",
    "        game = MSGame(board_size_x, board_size_y, bombs, verbose=False)\n",
    "\n",
    "        if featureType == 3:\n",
    "            solver = Solver(board_size_x, board_size_y, bombs)\n",
    "\n",
    "\n",
    "        while game.game_status  == 2:\n",
    "            moves = findValidMoves(game.get_info_map())\n",
    "            choice = random.choice(moves)\n",
    "            game.playAutoMove(choice[1], choice[0])\n",
    "\n",
    "            if game.game_status == 2:\n",
    "                probabilities= None\n",
    "                if featureType == 3:\n",
    "                    board = game.get_info_map()\n",
    "                    board = np.where(board == 11, None, board)\n",
    "                    probabilities = solver.solve(board)\n",
    "\n",
    "                currentStateData = generateDataPoints(moves, game.get_info_map(), game.get_mine_map(), featureType, padding, probabilities=probabilities)\n",
    "\n",
    "\n",
    "                for j, v in currentStateData:\n",
    "                    unique[tuple((tuple(j),v))] = 1\n",
    "\n",
    "                dataset.extend(currentStateData)\n",
    "\n",
    "        if i%10 == 0:\n",
    "            print('iteration: ', i, 'complete')\n",
    "\n",
    "    clear_output(wait=True)\n",
    "    print(\"Length of dataset: \", len(dataset))\n",
    "    print(\"Number of unique data points: \", len(unique.items()))\n",
    "    \n",
    "    return dataset\n"
   ]
  },
  {
   "cell_type": "code",
   "execution_count": 55,
   "metadata": {},
   "outputs": [
    {
     "name": "stdout",
     "output_type": "stream",
     "text": [
      "Length of dataset:  285\n",
      "Number of unique data points:  100\n"
     ]
    }
   ],
   "source": [
    "dataset = generateDataset(iterations=1, featureType=2, padding=1)"
   ]
  },
  {
   "cell_type": "markdown",
   "metadata": {},
   "source": [
    "# Create Train & Test set"
   ]
  },
  {
   "cell_type": "code",
   "execution_count": 56,
   "metadata": {},
   "outputs": [],
   "source": [
    "# Split dataset into train and test, run over sampling to increase number of bomb samples\n",
    "def getTrainTest(dataset, sampling=True, test_size= 0.2):\n",
    "    X = [x[0] for x in dataset]\n",
    "    y = [x[1] for x in dataset]\n",
    "    if sampling:\n",
    "        temp = np.array(y)\n",
    "        print('Before repeated sampling')\n",
    "        print(\"samples with class non-bomb: \",len(np.where(temp == 0)[0]))\n",
    "        print(\"samples with class bomb: \",len(np.where(temp == 1)[0]))\n",
    "        \n",
    "        oversample = RandomOverSampler(sampling_strategy='minority')\n",
    "        X, y = oversample.fit_resample(X, y)\n",
    "        \n",
    "        print('After repeated sampling')\n",
    "        temp = np.array(y)\n",
    "        print(\"samples with class non-bomb: \",len(np.where(temp == 0)[0]))\n",
    "        print(\"samples with class bomb: \",len(np.where(temp == 1)[0]))\n",
    "        \n",
    "    Xtrain, Xtest, ytrain, ytest = train_test_split(X, y, test_size=test_size)\n",
    "    \n",
    "    print('Train shape', np.shape(Xtrain),np.shape(ytrain))\n",
    "    print('Test shape', np.shape(Xtest),np.shape(ytest))\n",
    "    \n",
    "    return Xtrain, Xtest, ytrain, ytest \n"
   ]
  },
  {
   "cell_type": "code",
   "execution_count": 44,
   "metadata": {},
   "outputs": [
    {
     "name": "stdout",
     "output_type": "stream",
     "text": [
      "Before repeated sampling\n",
      "samples with class non-bomb:  62\n",
      "samples with class bomb:  31\n",
      "After repeated sampling\n",
      "samples with class non-bomb:  62\n",
      "samples with class bomb:  62\n",
      "Train shape (99, 120) (99,)\n",
      "Test shape (25, 120) (25,)\n"
     ]
    }
   ],
   "source": [
    "Xtrain, Xtest, ytrain, ytest = getTrainTest(dataset)"
   ]
  },
  {
   "cell_type": "markdown",
   "metadata": {},
   "source": [
    "# Train Machine Learning Models"
   ]
  },
  {
   "cell_type": "code",
   "execution_count": 50,
   "metadata": {},
   "outputs": [],
   "source": [
    "# Train decision tree classifier\n",
    "def trainDecisionTreeClassifier(Xtrain, ytrain):\n",
    "    clf = tree.DecisionTreeClassifier()\n",
    "    clf = clf.fit(Xtrain, ytrain)\n",
    "#     plt.figure(figsize=(30,30))  # set plot size (denoted in inches)\n",
    "    \n",
    "    plt.figure(figsize=(12,12))\n",
    "    tree.plot_tree(clf, fontsize=10)\n",
    "    plt.savefig('tree_high_dpi', dpi=100)\n",
    "    \n",
    "    return clf"
   ]
  },
  {
   "cell_type": "code",
   "execution_count": 51,
   "metadata": {},
   "outputs": [
    {
     "data": {
      "image/png": "[encoded data removed]",
      "text/plain": [
       "<Figure size 864x864 with 1 Axes>"
      ]
     },
     "metadata": {
      "needs_background": "light"
     },
     "output_type": "display_data"
    }
   ],
   "source": [
    "clf = trainDecisionTreeClassifier(Xtrain, ytrain)"
   ]
  },
  {
   "cell_type": "code",
   "execution_count": 14,
   "metadata": {},
   "outputs": [],
   "source": [
    "# Train Random Forest classifier\n",
    "def trainRandomForestClassifier(Xtrain, ytrain):\n",
    "    clf = RandomForestClassifier(max_depth=100, random_state=0)\n",
    "    clf = clf.fit(Xtrain, ytrain)\n",
    "    return clf"
   ]
  },
  {
   "cell_type": "code",
   "execution_count": 15,
   "metadata": {},
   "outputs": [],
   "source": [
    "clf = trainRandomForestClassifier(Xtrain, ytrain)"
   ]
  },
  {
   "cell_type": "markdown",
   "metadata": {},
   "source": [
    "# Metrics"
   ]
  },
  {
   "cell_type": "code",
   "execution_count": 96,
   "metadata": {},
   "outputs": [],
   "source": [
    "# Calculate accuracy of model\n",
    "def accuracy(clf, Xtest, ytest):\n",
    "    ypred = clf.predict(Xtest)\n",
    "\n",
    "    return metrics.accuracy_score(ytest, ypred)\n",
    "\n",
    "# Calculate precision of models\n",
    "def precision(clf, Xtest, ytest):\n",
    "    ypred = clf.predict(Xtest)\n",
    "\n",
    "    return metrics.average_precision_score(ytest, ypred)\n",
    "\n",
    "# Calculate f1 score of models\n",
    "def f1(clf, Xtest, ytest):\n",
    "    ypred = clf.predict(Xtest)\n",
    "\n",
    "    return metrics.f1_score(ytest, ypred)\n",
    "\n",
    "# Calculate recall of models\n",
    "def recall(clf, Xtest, ytest):\n",
    "    ypred = clf.predict(Xtest)\n",
    "\n",
    "    return metrics.recall_score(ytest, ypred)"
   ]
  },
  {
   "cell_type": "code",
   "execution_count": 17,
   "metadata": {},
   "outputs": [
    {
     "data": {
      "text/plain": [
       "0.9798422436459246"
      ]
     },
     "execution_count": 17,
     "metadata": {},
     "output_type": "execute_result"
    }
   ],
   "source": [
    "accuracy(clf, Xtest, ytest)"
   ]
  },
  {
   "cell_type": "markdown",
   "metadata": {},
   "source": [
    "# Simulation logic"
   ]
  },
  {
   "cell_type": "code",
   "execution_count": 18,
   "metadata": {},
   "outputs": [],
   "source": [
    "# Simulate ML model in full minesweeper game, calculate percent of games solved\n",
    "\n",
    "def simulateMLModel(board_size_x, board_size_y, bombs, model, featureType, padding, simulations=1, printBoard=False):\n",
    "    \n",
    "    solved = 0\n",
    "    \n",
    "    \n",
    "    if featureType == 1:\n",
    "        featureExtractor = createBaseFeatures\n",
    "    elif featureType == 2:\n",
    "        featureExtractor = createNaiveFeatures    \n",
    "    elif featureType == 3:\n",
    "        featureExtractor = createProbabilityFeatures\n",
    "\n",
    "        \n",
    "    for i in range(simulations):\n",
    "        game = MSGame(board_size_x, board_size_y, bombs, verbose=False)\n",
    "        \n",
    "        if featureType == 3:\n",
    "            solver = Solver(board_size_x, board_size_y, bombs)\n",
    "\n",
    "        if printBoard:\n",
    "            print(game.print_board())\n",
    "        while game.game_status  == 2:\n",
    "            moves = findValidMoves(game.get_info_map())\n",
    "            moveProbabilities = []\n",
    "            for move in moves:\n",
    "                if featureType == 3:\n",
    "                    board = game.get_info_map()\n",
    "                    board = np.where(board == 11, None, board)\n",
    "                    probabilities = solver.solve(board)\n",
    "                    feat = featureExtractor(move[0], move[1], probabilities, padding)\n",
    "                else:\n",
    "                    feat = featureExtractor(move[0], move[1], game.get_info_map(), padding)\n",
    "                    \n",
    "                probability = model.predict_proba([feat])\n",
    "                moveProbabilities.append((move, probability[0]))\n",
    "            \n",
    "            moveProbabilities.sort(key=lambda x:x[1][0], reverse=True)\n",
    "            \n",
    "            choice, nonBombProbability = moveProbabilities[0]\n",
    "\n",
    "            game.playAutoMove(choice[1], choice[0])\n",
    "            if printBoard:\n",
    "                print(game.print_board())\n",
    "                print(\"move_made: \", choice[0], choice[1])\n",
    "                print(\"non bomb probability: \", nonBombProbability)\n",
    "#                 clear_output(wait=True)\n",
    "                if game.game_status == 1:\n",
    "                    print('game won!!')\n",
    "                elif game.game_status == 0:\n",
    "                    print('game lost :(')\n",
    "                time.sleep(2)\n",
    "                print()\n",
    "                \n",
    "                \n",
    "            if game.game_status == 1:\n",
    "                solved += 1\n",
    "        if printBoard:        \n",
    "            print(\"MINE MAP\")\n",
    "            print(game.get_mine_map())\n",
    "    \n",
    "    return solved/ simulations"
   ]
  },
  {
   "cell_type": "code",
   "execution_count": 19,
   "metadata": {},
   "outputs": [
    {
     "name": "stdout",
     "output_type": "stream",
     "text": [
      "s       0   1   2   3   4   5   6   7   8   9   10  11  12  13  14  15  \n",
      "\n",
      "0       *   *   *   *   *   *   *   *   *   *   *   *   *   *   *   *   \n",
      "1       *   *   *   *   *   *   *   *   *   *   *   *   *   *   *   *   \n",
      "2       *   *   *   *   *   *   *   *   *   *   *   *   *   *   *   *   \n",
      "3       *   *   *   *   *   *   *   *   *   *   *   *   *   *   *   *   \n",
      "4       *   *   *   *   *   *   *   *   *   *   *   *   *   *   *   *   \n",
      "5       *   *   *   *   *   *   *   *   *   *   *   *   *   *   *   *   \n",
      "6       *   *   *   *   *   *   *   *   *   *   *   *   *   *   *   *   \n",
      "7       *   *   *   *   *   *   *   *   *   *   *   *   *   *   *   *   \n",
      "8       *   *   *   *   *   *   *   *   *   *   *   *   *   *   *   *   \n",
      "9       *   *   *   *   *   *   *   *   *   *   *   *   *   *   *   *   \n",
      "10      *   *   *   *   *   *   *   *   *   *   *   *   *   *   *   *   \n",
      "11      *   *   *   *   *   *   *   *   *   *   *   *   *   *   *   *   \n",
      "12      *   *   *   *   *   *   *   *   *   *   *   *   *   *   *   *   \n",
      "13      *   *   *   *   *   *   *   *   *   *   *   *   *   *   *   *   \n",
      "14      *   *   *   *   *   *   *   *   *   *   *   *   *   *   *   *   \n",
      "15      *   *   *   *   *   *   *   *   *   *   *   *   *   *   *   *   \n",
      "16      *   *   *   *   *   *   *   *   *   *   *   *   *   *   *   *   \n",
      "17      *   *   *   *   *   *   *   *   *   *   *   *   *   *   *   *   \n",
      "18      *   *   *   *   *   *   *   *   *   *   *   *   *   *   *   *   \n",
      "19      *   *   *   *   *   *   *   *   *   *   *   *   *   *   *   *   \n",
      "20      *   *   *   *   *   *   *   *   *   *   *   *   *   *   *   *   \n",
      "21      *   *   *   *   *   *   *   *   *   *   *   *   *   *   *   *   \n",
      "22      *   *   *   *   *   *   *   *   *   *   *   *   *   *   *   *   \n",
      "23      *   *   *   *   *   *   *   *   *   *   *   *   *   *   *   *   \n",
      "24      *   *   *   *   *   *   *   *   *   *   *   *   *   *   *   *   \n",
      "25      *   *   *   *   *   *   *   *   *   *   *   *   *   *   *   *   \n",
      "26      *   *   *   *   *   *   *   *   *   *   *   *   *   *   *   *   \n",
      "27      *   *   *   *   *   *   *   *   *   *   *   *   *   *   *   *   \n",
      "28      *   *   *   *   *   *   *   *   *   *   *   *   *   *   *   *   \n",
      "29      *   *   *   *   *   *   *   *   *   *   *   *   *   *   *   *   \n",
      "\n",
      "None\n",
      "s       0   1   2   3   4   5   6   7   8   9   10  11  12  13  14  15  \n",
      "\n",
      "0       *   *   *   *   *   !   *   *   *   *   *   *   *   *   *   *   \n",
      "1       *   *   *   *   *   *   *   *   *   *   *   *   *   *   *   *   \n",
      "2       *   *   *   *   *   *   *   *   *   *   *   *   *   *   *   *   \n",
      "3       *   *   *   *   *   *   *   *   *   *   *   *   *   *   *   *   \n",
      "4       *   *   *   *   *   *   *   *   *   *   *   *   *   *   *   *   \n",
      "5       *   *   *   *   *   *   *   *   *   *   *   *   *   *   *   *   \n",
      "6       *   *   *   *   *   *   *   *   *   *   *   *   *   *   *   *   \n",
      "7       *   *   *   *   *   *   *   *   *   *   *   *   *   *   *   *   \n",
      "8       *   *   *   *   *   *   *   *   *   *   *   *   *   *   *   *   \n",
      "9       *   *   *   *   *   *   *   *   *   *   *   *   *   *   *   *   \n",
      "10      *   *   *   *   *   *   *   *   *   *   *   *   *   *   *   *   \n",
      "11      *   *   *   *   *   *   *   *   *   *   *   *   *   *   *   *   \n",
      "12      *   *   *   *   *   *   *   *   *   *   *   *   *   *   *   *   \n",
      "13      *   *   *   *   *   *   *   *   *   *   *   *   *   *   *   *   \n",
      "14      *   *   *   *   *   *   *   *   *   *   *   *   *   *   *   *   \n",
      "15      *   *   *   *   *   *   *   *   *   *   *   *   *   *   *   *   \n",
      "16      *   *   *   *   *   *   *   *   *   *   *   *   *   *   *   *   \n",
      "17      *   *   *   *   *   *   *   *   *   *   *   *   *   *   *   *   \n",
      "18      *   *   *   *   *   *   *   *   *   *   *   *   *   *   *   *   \n",
      "19      *   *   *   *   *   *   *   *   *   *   *   *   *   *   *   *   \n",
      "20      *   *   *   *   *   *   *   *   *   *   *   *   *   *   *   *   \n",
      "21      *   *   *   *   *   *   *   *   *   *   *   *   *   *   *   *   \n",
      "22      *   *   *   *   *   *   *   *   *   *   *   *   *   *   *   *   \n",
      "23      *   *   *   *   *   *   *   *   *   *   *   *   *   *   *   *   \n",
      "24      *   *   *   *   *   *   *   *   *   *   *   *   *   *   *   *   \n",
      "25      *   *   *   *   *   *   *   *   *   *   *   *   *   *   *   *   \n",
      "26      *   *   *   *   *   *   *   *   *   *   *   *   *   *   *   *   \n",
      "27      *   *   *   *   *   *   *   *   *   *   *   *   *   *   *   *   \n",
      "28      *   *   *   *   *   *   *   *   *   *   *   *   *   *   *   *   \n",
      "29      *   *   *   *   *   *   *   *   *   *   *   *   *   *   *   *   \n",
      "\n",
      "None\n",
      "move_made:  0 5\n",
      "non bomb probability:  [1. 0.]\n",
      "game lost :(\n",
      "\n",
      "MINE MAP\n",
      "[[0 0 0 0 0 1 0 0 0 0 0 0 1 0 0 0]\n",
      " [0 0 0 0 0 0 0 0 0 0 0 0 0 0 0 0]\n",
      " [0 0 0 0 0 0 0 0 0 0 0 0 0 0 0 0]\n",
      " [0 0 0 0 0 0 0 0 0 0 0 0 0 0 0 0]\n",
      " [0 0 0 0 0 0 0 0 0 0 0 0 0 0 0 0]\n",
      " [0 0 0 0 0 0 0 0 0 0 0 0 0 0 0 0]\n",
      " [0 0 0 0 1 0 0 0 0 0 0 0 0 0 0 0]\n",
      " [0 0 0 0 0 0 0 0 0 0 0 0 0 0 0 1]\n",
      " [0 0 0 0 0 0 0 0 0 0 0 0 0 0 0 0]\n",
      " [0 1 0 0 0 0 0 0 0 0 0 0 0 0 0 0]\n",
      " [0 0 0 0 0 0 0 0 0 0 0 0 0 0 0 0]\n",
      " [0 0 0 0 0 0 0 0 0 0 0 0 0 0 0 0]\n",
      " [0 0 0 0 0 0 0 0 0 0 0 0 0 0 0 0]\n",
      " [0 0 0 0 0 0 0 0 0 0 0 0 0 0 0 0]\n",
      " [0 0 0 0 0 0 0 0 0 0 0 0 0 0 0 0]\n",
      " [0 0 0 0 0 0 0 0 0 0 0 0 0 0 0 0]\n",
      " [0 0 0 0 0 1 0 0 0 0 0 0 0 0 0 0]\n",
      " [0 0 0 0 0 0 0 0 0 0 0 0 0 0 0 0]\n",
      " [0 0 0 0 0 0 0 0 0 0 0 1 0 0 0 0]\n",
      " [1 0 0 0 0 0 0 0 0 0 0 0 0 0 0 0]\n",
      " [0 0 0 0 0 0 0 0 0 0 0 0 0 0 0 0]\n",
      " [0 0 0 0 0 0 0 0 0 0 0 0 0 0 0 0]\n",
      " [0 0 0 0 0 0 0 0 0 0 0 0 0 0 0 0]\n",
      " [0 0 0 0 0 0 0 0 0 0 0 0 0 0 0 0]\n",
      " [0 0 0 0 0 0 0 0 0 0 0 0 0 0 0 0]\n",
      " [1 0 0 0 0 0 0 0 0 0 0 0 1 0 0 0]\n",
      " [0 0 0 0 0 0 0 0 0 0 0 0 0 0 0 0]\n",
      " [0 0 0 0 0 0 0 0 0 0 0 0 0 0 0 0]\n",
      " [0 0 0 0 0 0 0 0 0 0 0 0 0 0 0 0]\n",
      " [0 0 0 0 0 0 0 0 0 0 0 0 0 0 0 0]]\n"
     ]
    },
    {
     "data": {
      "text/plain": [
       "0.0"
      ]
     },
     "execution_count": 19,
     "metadata": {},
     "output_type": "execute_result"
    }
   ],
   "source": [
    "board_size_x = 16\n",
    "\n",
    "board_size_y = 30\n",
    "\n",
    "bombs = 10\n",
    "\n",
    "simulations = 1\n",
    "\n",
    "featureType = 1\n",
    "\n",
    "padding = 5\n",
    "\n",
    "simulateMLModel(board_size_x, board_size_y, bombs, clf, featureType, padding, simulations=simulations, printBoard=True)     "
   ]
  },
  {
   "cell_type": "code",
   "execution_count": 20,
   "metadata": {},
   "outputs": [],
   "source": [
    "# Simulate Probabilistic model in full minesweeper game, calculate percent of games solved\n",
    "def simulateProbabilisticModel(board_size_x, board_size_y, bombs, simulations=1, printBoard=False):\n",
    "    \n",
    "    solved = 0\n",
    "    for i in range(simulations):\n",
    "        game = MSGame(board_size_x, board_size_y, bombs, verbose=False)\n",
    "        solver = Solver(board_size_x, board_size_y, bombs)\n",
    "        if printBoard:\n",
    "            print(game.print_board())\n",
    "        while game.game_status  == 2:\n",
    "            board = game.get_info_map()\n",
    "            board = np.where(board == 11, None, board)\n",
    "            prob = solver.solve(board)\n",
    "            \n",
    "            best_prob = np.nanmin(prob)\n",
    "            ys, xs = (prob == best_prob).nonzero()\n",
    "            if best_prob != 0:\n",
    "                x, y = corner_then_edge2_policy(prob)\n",
    "                game.playAutoMove(x, y)\n",
    "            else:\n",
    "                # Open all the knowns.\n",
    "                for x, y in zip(xs, ys):\n",
    "                    if game.game_status  != 2:\n",
    "                        break\n",
    "                    game.playAutoMove(x, y)\n",
    "                    \n",
    "            if printBoard:\n",
    "                print(game.print_board())\n",
    "                clear_output(wait=True)\n",
    "                if game.game_status == 1:\n",
    "                    print('game won!!')\n",
    "                elif game.game_status == 0:\n",
    "                    print('game lost :(')\n",
    "                time.sleep(2)\n",
    "                print()\n",
    "                \n",
    "                \n",
    "            if game.game_status == 1:\n",
    "                solved += 1\n",
    "        if printBoard:        \n",
    "            print(\"MINE MAP\")\n",
    "            print(game.get_mine_map())\n",
    "    \n",
    "    return solved/ simulations\n"
   ]
  },
  {
   "cell_type": "code",
   "execution_count": 21,
   "metadata": {},
   "outputs": [
    {
     "name": "stdout",
     "output_type": "stream",
     "text": [
      "game lost :(\n",
      "\n",
      "MINE MAP\n",
      "[[0 0 0 0 0 0 0 0 1 0 0 0 0 1 0 0]\n",
      " [0 0 1 0 0 0 0 0 0 0 0 0 1 0 0 0]\n",
      " [0 0 0 1 0 0 0 0 1 0 0 0 0 0 0 0]\n",
      " [0 0 0 0 0 0 0 0 0 0 0 1 1 1 1 0]\n",
      " [0 0 0 0 0 0 0 1 0 0 0 0 0 1 0 0]\n",
      " [0 0 0 0 0 0 0 0 0 0 0 0 0 0 0 0]\n",
      " [0 0 0 0 0 0 1 0 1 1 0 0 0 0 0 0]\n",
      " [0 0 0 0 1 0 0 0 0 1 0 0 1 0 0 0]\n",
      " [0 0 0 0 0 0 0 0 1 0 0 0 0 0 0 0]\n",
      " [0 0 0 0 0 0 0 0 0 1 0 0 0 1 1 1]\n",
      " [0 0 1 0 0 0 0 0 1 0 0 0 0 0 0 0]\n",
      " [0 0 0 1 0 1 0 0 0 0 0 0 1 0 0 1]\n",
      " [0 0 0 0 0 0 0 0 0 0 0 0 0 0 1 0]\n",
      " [0 0 0 0 0 0 1 0 0 0 1 0 0 0 0 0]\n",
      " [0 0 0 0 0 1 1 0 0 0 0 0 0 0 1 0]\n",
      " [0 1 0 0 1 1 0 1 1 0 0 0 0 1 0 1]\n",
      " [0 0 0 0 1 0 0 0 0 0 0 1 0 0 0 0]\n",
      " [0 0 0 1 0 0 1 0 1 0 1 0 0 1 1 1]\n",
      " [0 0 0 0 0 0 0 1 0 1 0 0 0 0 0 0]\n",
      " [0 0 0 0 1 0 0 0 1 1 1 0 0 0 1 0]\n",
      " [0 0 0 0 1 0 0 1 0 0 0 0 0 0 0 0]\n",
      " [0 0 1 0 1 0 0 0 0 0 0 0 1 0 0 0]\n",
      " [0 0 0 1 1 0 0 1 0 0 1 1 0 1 0 0]\n",
      " [0 0 0 0 0 0 1 0 0 0 0 0 0 1 1 0]\n",
      " [0 0 1 0 1 1 0 0 0 0 0 1 0 0 1 0]\n",
      " [1 0 0 1 0 0 1 0 0 0 0 1 0 0 1 0]\n",
      " [0 0 0 0 0 1 0 0 0 0 1 0 0 0 1 0]\n",
      " [0 1 0 0 0 0 0 1 0 0 1 0 0 1 1 1]\n",
      " [0 0 1 0 0 0 1 0 0 0 0 0 0 0 1 1]\n",
      " [0 1 0 1 1 0 0 0 0 0 0 0 0 0 0 1]]\n"
     ]
    },
    {
     "data": {
      "text/plain": [
       "0.0"
      ]
     },
     "execution_count": 21,
     "metadata": {},
     "output_type": "execute_result"
    }
   ],
   "source": [
    "board_size_x = 16\n",
    "\n",
    "board_size_y = 30\n",
    "\n",
    "bombs = 99\n",
    "\n",
    "simulations = 1\n",
    "\n",
    "simulateProbabilisticModel(board_size_x, board_size_y, bombs, simulations=simulations, printBoard=True)  "
   ]
  },
  {
   "cell_type": "markdown",
   "metadata": {},
   "source": [
    "# Collect Analytics\n",
    "\n"
   ]
  },
  {
   "cell_type": "code",
   "execution_count": 88,
   "metadata": {},
   "outputs": [
    {
     "name": "stdout",
     "output_type": "stream",
     "text": [
      "Length of dataset:  66942\n",
      "Number of unique data points:  41463\n",
      "Before repeated sampling\n",
      "samples with class non-bomb:  47270\n",
      "samples with class bomb:  19672\n",
      "After repeated sampling\n",
      "samples with class non-bomb:  47270\n",
      "samples with class bomb:  47270\n",
      "Train shape (75632, 25) (75632,)\n",
      "Test shape (18908, 25) (18908,)\n"
     ]
    }
   ],
   "source": [
    "#Create 3 models with different feature extraction methods\n",
    "\n",
    "# Use base feature extraction method, featureType = 1\n",
    "d1 = generateDataset(board_size_x = 16, board_size_y = 30, bombs = 99, iterations = 500, padding = 2, featureType = 1)\n",
    "d1_Xtrain, d1_Xtest, d1_ytrain, d1_ytest = getTrainTest(d1)\n",
    "clf1 = trainRandomForestClassifier(d1_Xtrain, d1_ytrain)\n",
    "\n",
    "# Use naive feature extraction method, featureType = 2\n",
    "d2 = generateDataset(board_size_x = 16, board_size_y = 30, bombs = 99, iterations = 500, padding = 2, featureType = 2)\n",
    "d2_Xtrain, d2_Xtest, d2_ytrain, d2_ytest = getTrainTest(d2)\n",
    "clf2 = trainRandomForestClassifier(d2_Xtrain, d2_ytrain)\n",
    "\n",
    "\n",
    "# Use probability extraction method, featureType = 3\n",
    "d3 = generateDataset(board_size_x = 16, board_size_y = 30, bombs = 99, iterations = 500, padding = 2, featureType = 3)\n",
    "d3_Xtrain, d3_Xtest, d3_ytrain, d3_ytest = getTrainTest(d3)\n",
    "clf3 = trainRandomForestClassifier(d3_Xtrain, d3_ytrain)\n"
   ]
  },
  {
   "cell_type": "code",
   "execution_count": 97,
   "metadata": {},
   "outputs": [],
   "source": [
    "\n",
    "score_dict['Model 1: test precision'] = precision(clf1, d1_Xtest, d1_ytest)\n",
    "score_dict['Model 2: test precision'] = precision(clf2, d2_Xtest, d2_ytest)\n",
    "score_dict['Model 3: test precision'] = precision(clf3, d3_Xtest, d3_ytest)\n",
    "\n",
    "\n",
    "score_dict['Model 1: test recall'] = recall(clf1, d1_Xtest, d1_ytest)\n",
    "score_dict['Model 2: test recall'] = recall(clf2, d2_Xtest, d2_ytest)\n",
    "score_dict['Model 3: test recall'] = recall(clf3, d3_Xtest, d3_ytest)\n",
    "         \n",
    "    \n",
    "score_dict['Model 1: test f1'] = f1(clf1, d1_Xtest, d1_ytest)\n",
    "score_dict['Model 2: test f1'] = f1(clf2, d2_Xtest, d2_ytest)\n",
    "score_dict['Model 3: test f1'] = f1(clf3, d3_Xtest, d3_ytest)\n",
    "         "
   ]
  },
  {
   "cell_type": "code",
   "execution_count": 92,
   "metadata": {},
   "outputs": [
    {
     "name": "stdout",
     "output_type": "stream",
     "text": [
      "Running simulations for  Easy\n",
      "Running simulations for  Beginner\n",
      "Running simulations for  Intermediate \n",
      "Running simulations for  reduced_Expert\n",
      "Running simulations for  Expert\n"
     ]
    }
   ],
   "source": [
    "gameDifficulties = {'Easy':{'board_size_x': 9, 'board_size_y': 9, 'bombs':5 }, 'Beginner':{'board_size_x': 9, 'board_size_y': 9, 'bombs':10 }, 'Intermediate ':{'board_size_x': 16, 'board_size_y': 16, 'bombs':40 }, 'reduced_Expert':{'board_size_x': 16, 'board_size_y': 30, 'bombs':20 },  'Expert':{'board_size_x': 16, 'board_size_y': 30, 'bombs':99 }}\n",
    "\n",
    "simulations = 100\n",
    "\n",
    "score_dict = {}\n",
    "\n",
    "score_dict['Model 1: test accuracy'] = accuracy(clf1, d1_Xtest, d1_ytest)\n",
    "score_dict['Model 2: test accuracy'] = accuracy(clf2, d2_Xtest, d2_ytest)\n",
    "score_dict['Model 3: test accuracy'] = accuracy(clf3, d3_Xtest, d3_ytest)\n",
    "         \n",
    "\n",
    "for difficulty in gameDifficulties.keys():\n",
    "    print('Running simulations for ', difficulty)\n",
    "    \n",
    "    score = simulateMLModel(gameDifficulties[difficulty]['board_size_x'], gameDifficulties[difficulty]['board_size_y'], gameDifficulties[difficulty]['bombs'], clf1, 1, padding = 2, simulations=simulations, printBoard=False)    \n",
    "    score_dict['Model 1: '+ difficulty] = score\n",
    "    \n",
    "    score= simulateMLModel(gameDifficulties[difficulty]['board_size_x'], gameDifficulties[difficulty]['board_size_y'], gameDifficulties[difficulty]['bombs'], clf2, 2, padding = 2,  simulations=simulations, printBoard=False)    \n",
    "    score_dict['Model 2: '+ difficulty] = score\n",
    "    \n",
    "    score = simulateMLModel(gameDifficulties[difficulty]['board_size_x'], gameDifficulties[difficulty]['board_size_y'], gameDifficulties[difficulty]['bombs'], clf3, 3, padding = 2, simulations=simulations, printBoard=False)    \n",
    "    score_dict['Model 3: '+ difficulty] = score\n",
    "   \n",
    "    score = simulateProbabilisticModel(gameDifficulties[difficulty]['board_size_x'], gameDifficulties[difficulty]['board_size_y'], gameDifficulties[difficulty]['bombs'], simulations=simulations, printBoard=False)  \n",
    "    score_dict['Probabilistic Model: '+difficulty] = score\n",
    "    "
   ]
  },
  {
   "cell_type": "code",
   "execution_count": 94,
   "metadata": {},
   "outputs": [],
   "source": [
    "with open('model.pkl','wb') as f:\n",
    "    pickle.dump(clf1,f)"
   ]
  },
  {
   "cell_type": "code",
   "execution_count": 93,
   "metadata": {},
   "outputs": [
    {
     "name": "stderr",
     "output_type": "stream",
     "text": [
      "No artists with labels found to put in legend.  Note that artists whose label start with an underscore are ignored when legend() is called with no argument.\n"
     ]
    },
    {
     "data": {
      "image/png": "[encoded data removed]",
      "text/plain": [
       "<Figure size 2160x720 with 1 Axes>"
      ]
     },
     "metadata": {
      "needs_background": "light"
     },
     "output_type": "display_data"
    }
   ],
   "source": [
    "x = np.arange(len(score_dict))\n",
    "width = 0.3\n",
    "\n",
    "plt.figure(figsize=(30,10))\n",
    "\n",
    "plt.title(\"Model Performance\")\n",
    "\n",
    "plt.ylabel('Percent of games solved')\n",
    "plt.bar(x, score_dict.values(), width)\n",
    "plt.xticks(ticks=x, labels=score_dict.keys(),\n",
    "           rotation=-45)\n",
    "_ = plt.legend()\n",
    "plt.savefig('images/Performance2.jpg')\n",
    "plt.show()\n"
   ]
  },
  {
   "cell_type": "code",
   "execution_count": 109,
   "metadata": {},
   "outputs": [
    {
     "name": "stderr",
     "output_type": "stream",
     "text": [
      "No artists with labels found to put in legend.  Note that artists whose label start with an underscore are ignored when legend() is called with no argument.\n"
     ]
    },
    {
     "data": {
      "image/png": "[encoded data removed]",
      "text/plain": [
       "<Figure size 360x360 with 1 Axes>"
      ]
     },
     "metadata": {
      "needs_background": "light"
     },
     "output_type": "display_data"
    }
   ],
   "source": [
    "vals = [score_dict['Model 1: Easy'], score_dict['Model 2: Easy'], score_dict['Model 3: Easy']]\n",
    "labels = ['Model 1', 'Model 2', 'Model 3']\n",
    "x = np.arange(len(vals))\n",
    "width = 0.3\n",
    "\n",
    "plt.figure(figsize=(5,5))\n",
    "\n",
    "plt.title(\"Model Performance on reduced Expert Minesweeper Grid\")\n",
    "\n",
    "plt.ylabel('Solution Rate')\n",
    "plt.xlabel('Model Type')\n",
    "plt.bar(x, vals, width)\n",
    "plt.xticks(ticks=x, labels=labels)\n",
    "_ = plt.legend()\n",
    "plt.savefig('images/reducedExpertMinesweeperJustML.jpg')\n",
    "plt.show()\n"
   ]
  },
  {
   "cell_type": "code",
   "execution_count": 86,
   "metadata": {},
   "outputs": [
    {
     "name": "stdout",
     "output_type": "stream",
     "text": [
      "Length of dataset:  77575\n",
      "Number of unique data points:  32291\n",
      "Before repeated sampling\n",
      "samples with class non-bomb:  54354\n",
      "samples with class bomb:  23221\n",
      "After repeated sampling\n",
      "samples with class non-bomb:  54354\n",
      "samples with class bomb:  54354\n",
      "Train shape (86966, 120) (86966,)\n",
      "Test shape (21742, 120) (21742,)\n"
     ]
    }
   ],
   "source": [
    "padding_score_dict = []\n",
    "simulations = 100\n",
    "\n",
    "# Use naive feature extraction method, featureType = 2\n",
    "d1 = generateDataset(board_size_x = 16, board_size_y = 30, bombs = 99, iterations = 500, padding = 1, featureType = 1)\n",
    "d1_Xtrain, d1_Xtest, d1_ytrain, d1_ytest = getTrainTest(d1)\n",
    "clf1 = trainRandomForestClassifier(d1_Xtrain, d1_ytrain)\n",
    "score = simulateMLModel(9, 9, 5, clf1, 1, padding = 1, simulations=simulations, printBoard=False)    \n",
    "padding_score_dict.append(score)\n",
    "\n",
    "d1 = generateDataset(board_size_x = 16, board_size_y = 30, bombs = 99, iterations = 500, padding = 2, featureType = 1)\n",
    "d1_Xtrain, d1_Xtest, d1_ytrain, d1_ytest = getTrainTest(d1)\n",
    "clf1 = trainRandomForestClassifier(d1_Xtrain, d1_ytrain)\n",
    "score = simulateMLModel(9, 9, 5, clf1, 1, padding = 2, simulations=simulations, printBoard=False)    \n",
    "padding_score_dict.append(score)\n",
    "\n",
    "\n",
    "d1 = generateDataset(board_size_x = 16, board_size_y = 30, bombs = 99, iterations = 500, padding = 3, featureType = 1)\n",
    "d1_Xtrain, d1_Xtest, d1_ytrain, d1_ytest = getTrainTest(d1)\n",
    "clf1 = trainRandomForestClassifier(d1_Xtrain, d1_ytrain)\n",
    "score = simulateMLModel(9, 9, 5, clf1, 1, padding = 3, simulations=simulations, printBoard=False)    \n",
    "padding_score_dict.append(score)\n",
    "\n",
    "\n",
    "d1 = generateDataset(board_size_x = 16, board_size_y = 30, bombs = 99, iterations = 500, padding = 4, featureType = 1)\n",
    "d1_Xtrain, d1_Xtest, d1_ytrain, d1_ytest = getTrainTest(d1)\n",
    "clf1 = trainRandomForestClassifier(d1_Xtrain, d1_ytrain)\n",
    "score = simulateMLModel(9, 9, 5, clf1, 1, padding = 4, simulations=simulations, printBoard=False)    \n",
    "padding_score_dict.append(score)\n",
    "\n",
    "\n",
    "d1 = generateDataset(board_size_x = 16, board_size_y = 30, bombs = 99, iterations = 500, padding = 5, featureType = 1)\n",
    "d1_Xtrain, d1_Xtest, d1_ytrain, d1_ytest = getTrainTest(d1)\n",
    "clf1 = trainRandomForestClassifier(d1_Xtrain, d1_ytrain)\n",
    "score = simulateMLModel(9, 9, 5, clf1, 1, padding = 5, simulations=simulations, printBoard=False)    \n",
    "padding_score_dict.append(score)\n",
    "\n",
    "\n"
   ]
  },
  {
   "cell_type": "code",
   "execution_count": 111,
   "metadata": {},
   "outputs": [
    {
     "name": "stderr",
     "output_type": "stream",
     "text": [
      "No artists with labels found to put in legend.  Note that artists whose label start with an underscore are ignored when legend() is called with no argument.\n"
     ]
    },
    {
     "data": {
      "image/png": "[encoded data removed]",
      "text/plain": [
       "<Figure size 360x360 with 1 Axes>"
      ]
     },
     "metadata": {
      "needs_background": "light"
     },
     "output_type": "display_data"
    }
   ],
   "source": [
    "\n",
    "plt.figure(figsize=(5, 5))\n",
    "\n",
    "plt.title(\"Model Performance Using Different Padding Values\")\n",
    "\n",
    "labels = [1, 2, 3, 4, 5]\n",
    "x = np.arange(len(padding_score_dict))\n",
    "plt.ylabel('Solution rate')\n",
    "plt.xlabel('Padding Size')\n",
    "plt.bar(x, padding_score_dict, width=0.3)\n",
    "plt.xticks(ticks=x, labels=labels, \n",
    "           rotation=0)\n",
    "_ = plt.legend()\n",
    "plt.savefig('images/PaddingModels.jpg', dpi=100)\n",
    "plt.show()\n"
   ]
  },
  {
   "cell_type": "code",
   "execution_count": null,
   "metadata": {},
   "outputs": [],
   "source": [
    "   "
   ]
  }
 ],
 "metadata": {
  "kernelspec": {
   "display_name": "Python 3 (ipykernel)",
   "language": "python",
   "name": "python3"
  },
  "language_info": {
   "codemirror_mode": {
    "name": "ipython",
    "version": 3
   },
   "file_extension": ".py",
   "mimetype": "text/x-python",
   "name": "python",
   "nbconvert_exporter": "python",
   "pygments_lexer": "ipython3",
   "version": "3.9.7"
  }
 },
 "nbformat": 4,
 "nbformat_minor": 4
}
