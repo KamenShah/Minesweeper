{
 "cells": [
  {
   "cell_type": "code",
   "execution_count": 61,
   "id": "55bef5b1",
   "metadata": {},
   "outputs": [],
   "source": [
    "import socket            \n",
    " \n",
    "port = 5678              \n",
    " \n",
    "s = socket.socket(socket.AF_INET, socket.SOCK_STREAM)\n",
    "\n",
    "\n",
    "s.connect((\"127.0.0.1\", port))\n",
    "\n",
    " "
   ]
  }
 ],
 "metadata": {
  "kernelspec": {
   "display_name": "Python 3 (ipykernel)",
   "language": "python",
   "name": "python3"
  },
  "language_info": {
   "codemirror_mode": {
    "name": "ipython",
    "version": 3
   },
   "file_extension": ".py",
   "mimetype": "text/x-python",
   "name": "python",
   "nbconvert_exporter": "python",
   "pygments_lexer": "ipython3",
   "version": "3.9.7"
  }
 },
 "nbformat": 4,
 "nbformat_minor": 5
}
